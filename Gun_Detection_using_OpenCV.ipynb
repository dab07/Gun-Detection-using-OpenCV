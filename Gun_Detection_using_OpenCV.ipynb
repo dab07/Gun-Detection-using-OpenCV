{
  "nbformat": 4,
  "nbformat_minor": 0,
  "metadata": {
    "colab": {
      "name": "Gun Detection using OpenCV",
      "provenance": [],
      "collapsed_sections": []
    },
    "kernelspec": {
      "name": "python3",
      "display_name": "Python 3"
    },
    "language_info": {
      "name": "python"
    }
  },
  "cells": [
    {
      "cell_type": "code",
      "execution_count": 3,
      "metadata": {
        "id": "QlD9xHhL09Em"
      },
      "outputs": [],
      "source": [
        "import cv2\n",
        "import imutils\n",
        "\n",
        "cascade = cv2.CascadeClassifier('/Users/harshit/Documents/cascade.xml')\n",
        "#bank_camera=cv2.VideoCapture(0)\n",
        "bank_camera = cv2.VideoCapture('/Users/harshit/Documents/guns_gallery.mp4')\n",
        "\n",
        "firstFrame = None\n",
        "\n",
        "while True:\n",
        "    (grabbed, frame) = bank_camera.read()\n",
        "\n",
        "    if not grabbed:\n",
        "        break\n",
        "\n",
        "    frame = imutils.resize(frame, width=700)\n",
        "    gray = cv2.cvtColor(frame, cv2.COLOR_BGR2GRAY)\n",
        "\n",
        "    gun = cascade.detectMultiScale(gray, 1.3, 50)\n",
        "\n",
        "    for (x, y, w, h) in gun:\n",
        "        frame = cv2.rectangle(frame, (x, y), (x + w, y + h), (255, 0, 0), 2)\n",
        "        roi_gray = gray[y:y + h, x:x + w]\n",
        "        #The roi_gray defines the region of interest of the face and roi_color does the same for the original frame. \n",
        "        #The live feed coming from the webcam/video device is processed frame by frame. We process the gray scale image, as haar-cascades work better on them.\n",
        "\n",
        "        roi_color = frame[y:y + h, x:x + w]\n",
        "        #The data is stored as tuples of coordinates. Here, \n",
        "        #x and y define the coordinate of the upper-left corner of the frame, \n",
        "        #w and h define the width and height of the frame\n",
        "\n",
        "    if firstFrame is None:\n",
        "        firstFrame = gray\n",
        "        continue\n",
        "\n",
        "\n",
        "    cv2.imshow(\"Security Feed\", frame)\n",
        "    key = cv2.waitKey(1) & 0xFF\n",
        "\n",
        "    if key == ord('q'):\n",
        "        cv2.destroyAllWindows()\n",
        "        break\n",
        "    #We define main function in this step. After execution, the function can be terminated by pressing the “q” key.\n",
        "\n",
        "\n",
        "bank_camera.release()\n",
        "cv2.destroyAllWindows()"
      ]
    }
  ]
}